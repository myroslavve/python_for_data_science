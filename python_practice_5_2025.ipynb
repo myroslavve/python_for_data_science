{
  "cells": [
    {
      "cell_type": "markdown",
      "metadata": {
        "id": "5qV_sehzFCTp"
      },
      "source": [
        "# I. OOP"
      ]
    },
    {
      "cell_type": "markdown",
      "metadata": {
        "id": "tx_U_hOALyfg"
      },
      "source": [
        "1. (6б). Створіть клас Building, додайте три атрибути, один з яких має значення за замовчуванням та два методи на свій розсуд."
      ]
    },
    {
      "cell_type": "code",
      "execution_count": 3,
      "metadata": {
        "id": "-Vf895KaL88N"
      },
      "outputs": [],
      "source": [
        "class Building:\n",
        "    def __init__(self, name, floors, material=\"Concrete\"):\n",
        "        self.name = name\n",
        "        self.floors = floors\n",
        "        self.material = material\n",
        "\n",
        "    def info(self):\n",
        "        return f\"Building Name: {self.name}, Floors: {self.floors}, Material: {self.material}\"\n",
        "\n",
        "    def renovate(self, new_material):\n",
        "        self.material = new_material\n",
        "        return f\"The building {self.name} has been renovated with {new_material}.\""
      ]
    },
    {
      "cell_type": "markdown",
      "metadata": {
        "id": "X_UlOMB0L93w"
      },
      "source": [
        "2. (2б). Створіть два обʼєкти цього класу, де один з обʼєктів створюється із дефолтним значенням атрибуту. На одному обʼєкті отримайте значення його атрибуту, а на іншому викличте один з його методів."
      ]
    },
    {
      "cell_type": "code",
      "execution_count": 4,
      "metadata": {
        "id": "7gBu0ESOMCpG",
        "colab": {
          "base_uri": "https://localhost:8080/"
        },
        "outputId": "75f0b1f4-177f-4a30-fc4e-e04e05dad9b1"
      },
      "outputs": [
        {
          "output_type": "stream",
          "name": "stdout",
          "text": [
            "Concrete\n",
            "The building GreenHouse has been renovated with Brick.\n"
          ]
        }
      ],
      "source": [
        "building1 = Building(\"SkyTower\", 20)\n",
        "building2 = Building(\"GreenHouse\", 5, \"Wood\")\n",
        "\n",
        "print(building1.material)\n",
        "\n",
        "print(building2.renovate(\"Brick\"))\n"
      ]
    },
    {
      "cell_type": "markdown",
      "metadata": {
        "id": "HoqSCZt1MHn5"
      },
      "source": [
        "3. (5б). Створіть клас, де атрибути мають різні рівні доступу. Спробуйте отримати їхні значення та опишіть результати."
      ]
    },
    {
      "cell_type": "code",
      "execution_count": 9,
      "metadata": {
        "id": "r9b3vJxBMSPV",
        "colab": {
          "base_uri": "https://localhost:8080/",
          "height": 228
        },
        "outputId": "772601b8-0f97-49e4-e7ea-2b7cf7617067"
      },
      "outputs": [
        {
          "output_type": "stream",
          "name": "stdout",
          "text": [
            "SkyTower\n",
            "20\n",
            "Concrete\n"
          ]
        },
        {
          "output_type": "error",
          "ename": "AttributeError",
          "evalue": "'Building' object has no attribute '__material'",
          "traceback": [
            "\u001b[0;31m---------------------------------------------------------------------------\u001b[0m",
            "\u001b[0;31mAttributeError\u001b[0m                            Traceback (most recent call last)",
            "\u001b[0;32m<ipython-input-9-e4d561e56227>\u001b[0m in \u001b[0;36m<cell line: 0>\u001b[0;34m()\u001b[0m\n\u001b[1;32m      9\u001b[0m \u001b[0mprint\u001b[0m\u001b[0;34m(\u001b[0m\u001b[0mbuilding1\u001b[0m\u001b[0;34m.\u001b[0m\u001b[0m_floors\u001b[0m\u001b[0;34m)\u001b[0m\u001b[0;34m\u001b[0m\u001b[0;34m\u001b[0m\u001b[0m\n\u001b[1;32m     10\u001b[0m \u001b[0mprint\u001b[0m\u001b[0;34m(\u001b[0m\u001b[0mbuilding1\u001b[0m\u001b[0;34m.\u001b[0m\u001b[0m_Building__material\u001b[0m\u001b[0;34m)\u001b[0m\u001b[0;34m\u001b[0m\u001b[0;34m\u001b[0m\u001b[0m\n\u001b[0;32m---> 11\u001b[0;31m \u001b[0mprint\u001b[0m\u001b[0;34m(\u001b[0m\u001b[0mbuilding1\u001b[0m\u001b[0;34m.\u001b[0m\u001b[0m__material\u001b[0m\u001b[0;34m)\u001b[0m\u001b[0;34m\u001b[0m\u001b[0;34m\u001b[0m\u001b[0m\n\u001b[0m",
            "\u001b[0;31mAttributeError\u001b[0m: 'Building' object has no attribute '__material'"
          ]
        }
      ],
      "source": [
        "class Building:\n",
        "    def __init__(self, name, floors, material=\"Concrete\"):\n",
        "        self.name = name\n",
        "        self._floors = floors\n",
        "        self.__material = material\n",
        "\n",
        "building1 = Building(\"SkyTower\", 20)\n",
        "print(building1.name)\n",
        "print(building1._floors)\n",
        "print(building1._Building__material)\n",
        "print(building1.__material) # Не можна отримати приватні атрибути, можна тільки якщо використати синтаксис вище"
      ]
    },
    {
      "cell_type": "markdown",
      "metadata": {
        "id": "5op2m2vgMSkZ"
      },
      "source": [
        "4. (7б). Як ви розумієте термін self? Для чого використовується метод __init __?"
      ]
    },
    {
      "cell_type": "markdown",
      "metadata": {
        "id": "DyiPqNRvMasx"
      },
      "source": [
        "*місце для відповіді\n",
        "\n",
        "self це змінна за допомогою якої можна отримати екземпляр класу у його методах\n",
        "\n",
        "__init __ використовується для виконання якихось операцій при створенні екземпляру класу (наприклад присвоєння атрибутів)"
      ]
    },
    {
      "cell_type": "markdown",
      "metadata": {
        "id": "-6X8EGfjMd2y"
      },
      "source": [
        "5. (9б). Створіть клас 3D-фігура без атрибутів, з методом get_volume для отримання об'єму фігури, що повертає 0 та __add __, який приймає self та other в якості аргументів, а повертає суму об'ємів 3d-фігур self та other."
      ]
    },
    {
      "cell_type": "code",
      "execution_count": 10,
      "metadata": {
        "id": "4rvO_wYUMaEr"
      },
      "outputs": [],
      "source": [
        "class Shape3D:\n",
        "    def get_volume(self):\n",
        "        return 0\n",
        "\n",
        "    def __add__(self, other):\n",
        "        return self.get_volume() + other.get_volume()\n"
      ]
    },
    {
      "cell_type": "markdown",
      "metadata": {
        "id": "SFcKnnv5Mo_z"
      },
      "source": [
        "6. (11б). Створіть 2 дочірніх класи від 3d-фігура: Циліндр та Куб, які мають атрибути, необхідні для розрахунку об'єму. Визначте метод get_volume в кожному з них так, щоби вони розраховували об'єм у залежності від формули для кожного типу фігури. Створіть обʼєкт класу Циліндр та обʼєкт класу Куб. Виконайте операцію суми за допомогою оператора + між ними, аби знайти сумарний об'єм."
      ]
    },
    {
      "cell_type": "code",
      "execution_count": 18,
      "metadata": {
        "id": "H3GVNr69Muf3",
        "colab": {
          "base_uri": "https://localhost:8080/"
        },
        "outputId": "70169c2a-5ff4-4a54-c8bc-c64ee3e8a2a4"
      },
      "outputs": [
        {
          "output_type": "stream",
          "name": "stdout",
          "text": [
            "Cube: 64\n",
            "Cylinder: 141.3716694115407\n",
            "Cube + cylinder: 205.3716694115407\n"
          ]
        }
      ],
      "source": [
        "import math\n",
        "\n",
        "class Cylinder(Shape3D):\n",
        "    def __init__(self, radius, height):\n",
        "        self.radius = radius\n",
        "        self.height = height\n",
        "\n",
        "    def get_volume(self):\n",
        "        return math.pi * self.radius ** 2 * self.height\n",
        "\n",
        "class Cube(Shape3D):\n",
        "    def __init__(self, side):\n",
        "        self.side = side\n",
        "\n",
        "    def get_volume(self):\n",
        "        return self.side ** 3\n",
        "\n",
        "cube = Cube(4)\n",
        "cylinder = Cylinder(3, 5)\n",
        "\n",
        "print(f\"Cube: {cube.get_volume()}\")\n",
        "print(f\"Cylinder: {cylinder.get_volume()}\")\n",
        "print(f\"Cube + cylinder: {cylinder + cube}\")"
      ]
    },
    {
      "cell_type": "markdown",
      "metadata": {
        "id": "HCvR206YMvLK"
      },
      "source": [
        "7. (3б). Продемонструйте різницю між isinstance та issubclass."
      ]
    },
    {
      "cell_type": "code",
      "execution_count": 15,
      "metadata": {
        "id": "L_V1bBvDM0GN",
        "colab": {
          "base_uri": "https://localhost:8080/"
        },
        "outputId": "341ae5ad-7de2-4671-bc50-3d794a30c9d0"
      },
      "outputs": [
        {
          "output_type": "stream",
          "name": "stdout",
          "text": [
            "True\n",
            "True\n"
          ]
        }
      ],
      "source": [
        "cube = Cube(10)\n",
        "print(isinstance(cube, Shape3D)) # for instances\n",
        "print(issubclass(Cylinder, Shape3D)) # for classes"
      ]
    },
    {
      "cell_type": "markdown",
      "metadata": {
        "id": "jjsaBZ-iM0Qq"
      },
      "source": [
        "8. (13б). Створіть клас EWallet з приватними атрибутами balance та id. Реалізуйте методи поповнення та зняття коштів, забезпечивши належну інкапсуляцію. Підказка: використовуйте декоратори property та setter."
      ]
    },
    {
      "cell_type": "code",
      "execution_count": 19,
      "metadata": {
        "id": "xCvZ7lh8M7YA",
        "colab": {
          "base_uri": "https://localhost:8080/"
        },
        "outputId": "cf3241b6-d444-4277-f1db-ad87b810e117"
      },
      "outputs": [
        {
          "output_type": "stream",
          "name": "stdout",
          "text": [
            "Deposited 50. New balance: 150\n",
            "Withdrawn 30. New balance: 120\n",
            "120\n"
          ]
        }
      ],
      "source": [
        "class EWallet:\n",
        "    def __init__(self, wallet_id, balance=0):\n",
        "        self.__wallet_id = wallet_id\n",
        "        self.__balance = balance\n",
        "\n",
        "    @property\n",
        "    def balance(self):\n",
        "        return self.__balance\n",
        "\n",
        "    @balance.setter\n",
        "    def balance(self, amount):\n",
        "        self.__balance = amount\n",
        "\n",
        "    def deposit(self, amount):\n",
        "        if amount > 0:\n",
        "            self.__balance += amount\n",
        "            return f\"Deposited {amount}. New balance: {self.__balance}\"\n",
        "        return \"Deposit amount must be positive.\"\n",
        "\n",
        "    def withdraw(self, amount):\n",
        "        if 0 < amount <= self.__balance:\n",
        "            self.__balance -= amount\n",
        "            return f\"Withdrawn {amount}. New balance: {self.__balance}\"\n",
        "        return \"Insufficient funds or invalid amount.\"\n",
        "\n",
        "wallet = EWallet(\"12345\", 100)\n",
        "print(wallet.deposit(50))\n",
        "print(wallet.withdraw(30))\n",
        "print(wallet.balance)"
      ]
    },
    {
      "cell_type": "markdown",
      "metadata": {
        "id": "tIzL2SJTM8ft"
      },
      "source": [
        "9. (11б). Створіть клас ShoppingCart, який містить список об'єктів типу Item. Реалізуйте методи для додавання айтемів, їх видалення та відображення списку айтемів."
      ]
    },
    {
      "cell_type": "code",
      "execution_count": 21,
      "metadata": {
        "id": "HWxfJKLtNAUZ",
        "colab": {
          "base_uri": "https://localhost:8080/"
        },
        "outputId": "6d59fe37-9551-4457-b0e9-d76c93e3b197"
      },
      "outputs": [
        {
          "output_type": "stream",
          "name": "stdout",
          "text": [
            "Added Laptop to cart.\n",
            "Added Phone to cart.\n",
            "Laptop: $1200, Phone: $800\n",
            "Removed Laptop from cart.\n",
            "Phone: $800\n"
          ]
        }
      ],
      "source": [
        "class Item:\n",
        "    def __init__(self, name, price):\n",
        "        self.name = name\n",
        "        self.price = price\n",
        "\n",
        "class ShoppingCart:\n",
        "    def __init__(self):\n",
        "        self.items = []\n",
        "\n",
        "    def add_item(self, item):\n",
        "        self.items.append(item)\n",
        "        return f\"Added {item.name} to cart.\"\n",
        "\n",
        "    def remove_item(self, item_name):\n",
        "        for item in self.items:\n",
        "            if item.name == item_name:\n",
        "                self.items.remove(item)\n",
        "                return f\"Removed {item_name} from cart.\"\n",
        "        return f\"Item {item_name} not found in cart.\"\n",
        "\n",
        "    def show_cart(self):\n",
        "        if not self.items:\n",
        "            return \"Cart is empty.\"\n",
        "        return \", \".join([f\"{item.name}: ${item.price}\" for item in self.items])\n",
        "\n",
        "cart = ShoppingCart()\n",
        "item1 = Item(\"Laptop\", 1200)\n",
        "item2 = Item(\"Phone\", 800)\n",
        "\n",
        "print(cart.add_item(item1))\n",
        "print(cart.add_item(item2))\n",
        "print(cart.show_cart())\n",
        "print(cart.remove_item(\"Laptop\"))\n",
        "print(cart.show_cart())"
      ]
    },
    {
      "cell_type": "markdown",
      "metadata": {
        "id": "lmV8pAwwNIqu"
      },
      "source": [
        "10. (13б). Створіть клас Vehicle з атрибутами brand (manufacturer) та production_age. Створіть ще один клас Engine з такими атрибутами, як type (ex. petrol) та size (volume, litres). Створіть клас Car, який успадковує обидва класи Vehicle та Engine. Продемонструйте використання множинної спадковості, створивши обʼєкт класу Car та отримавши mro для цього класу."
      ]
    },
    {
      "cell_type": "code",
      "execution_count": 23,
      "metadata": {
        "id": "R49grKlWNPeN",
        "colab": {
          "base_uri": "https://localhost:8080/"
        },
        "outputId": "0d4a7826-fbe3-400e-c6bb-c3ec68ce1a37"
      },
      "outputs": [
        {
          "output_type": "stream",
          "name": "stdout",
          "text": [
            "Brand: Toyota, Production Age: 5 years, Engine Type: Petrol, Size: 2.0L\n",
            "(<class '__main__.Car'>, <class '__main__.Vehicle'>, <class '__main__.Engine'>, <class 'object'>)\n"
          ]
        }
      ],
      "source": [
        "class Vehicle:\n",
        "    def __init__(self, brand, production_age):\n",
        "        self.brand = brand\n",
        "        self.production_age = production_age\n",
        "\n",
        "    def vehicle_info(self):\n",
        "        return f\"Brand: {self.brand}, Production Age: {self.production_age} years\"\n",
        "\n",
        "\n",
        "class Engine:\n",
        "    def __init__(self, engine_type, size):\n",
        "        self.engine_type = engine_type\n",
        "        self.size = size\n",
        "\n",
        "    def engine_info(self):\n",
        "        return f\"Engine Type: {self.engine_type}, Size: {self.size}L\"\n",
        "\n",
        "\n",
        "class Car(Vehicle, Engine):\n",
        "    def __init__(self, brand, production_age, engine_type, size, model):\n",
        "        Vehicle.__init__(self, brand, production_age)\n",
        "        Engine.__init__(self, engine_type, size)\n",
        "\n",
        "    def car_info(self):\n",
        "        return f\"{self.vehicle_info()}, {self.engine_info()}\"\n",
        "\n",
        "\n",
        "my_car = Car(\"Toyota\", 5, \"Petrol\", 2.0, \"Corolla\")\n",
        "\n",
        "print(my_car.car_info())\n",
        "\n",
        "print(Car.__mro__)"
      ]
    },
    {
      "cell_type": "markdown",
      "metadata": {
        "id": "dIJyUiNBFG8G"
      },
      "source": [
        "# II. Iterator"
      ]
    },
    {
      "cell_type": "markdown",
      "metadata": {
        "id": "13vsm0NyKIzL"
      },
      "source": [
        "11. (4б). Визначте рядок(str) з 4ма різними за значенням символами. Створіть ітератор на основі цього рядка. Викличте 5 разів функцію next на ітераторі, 4ри перших з них огорніть у ф-цію print()."
      ]
    },
    {
      "cell_type": "code",
      "execution_count": 26,
      "metadata": {
        "id": "81ntabAkKuz-",
        "colab": {
          "base_uri": "https://localhost:8080/",
          "height": 245
        },
        "outputId": "f8652e7a-9fea-4056-e7fe-c1522ff3a3ab"
      },
      "outputs": [
        {
          "output_type": "stream",
          "name": "stdout",
          "text": [
            "a\n",
            "b\n",
            "c\n",
            "d\n"
          ]
        },
        {
          "output_type": "error",
          "ename": "StopIteration",
          "evalue": "",
          "traceback": [
            "\u001b[0;31m---------------------------------------------------------------------------\u001b[0m",
            "\u001b[0;31mStopIteration\u001b[0m                             Traceback (most recent call last)",
            "\u001b[0;32m<ipython-input-26-8f933c116e79>\u001b[0m in \u001b[0;36m<cell line: 0>\u001b[0;34m()\u001b[0m\n\u001b[1;32m      8\u001b[0m \u001b[0mprint\u001b[0m\u001b[0;34m(\u001b[0m\u001b[0mnext\u001b[0m\u001b[0;34m(\u001b[0m\u001b[0miterator\u001b[0m\u001b[0;34m)\u001b[0m\u001b[0;34m)\u001b[0m\u001b[0;34m\u001b[0m\u001b[0;34m\u001b[0m\u001b[0m\n\u001b[1;32m      9\u001b[0m \u001b[0;34m\u001b[0m\u001b[0m\n\u001b[0;32m---> 10\u001b[0;31m \u001b[0mnext\u001b[0m\u001b[0;34m(\u001b[0m\u001b[0miterator\u001b[0m\u001b[0;34m)\u001b[0m\u001b[0;34m\u001b[0m\u001b[0;34m\u001b[0m\u001b[0m\n\u001b[0m",
            "\u001b[0;31mStopIteration\u001b[0m: "
          ]
        }
      ],
      "source": [
        "my_str = \"abcd\"\n",
        "\n",
        "iterator = iter(my_str)\n",
        "\n",
        "print(next(iterator))\n",
        "print(next(iterator))\n",
        "print(next(iterator))\n",
        "print(next(iterator))\n",
        "\n",
        "next(iterator)"
      ]
    },
    {
      "cell_type": "markdown",
      "metadata": {
        "id": "aekWHGXOLRsO"
      },
      "source": [
        "А що якщо викликати цю ж функцію на рядку?"
      ]
    },
    {
      "cell_type": "code",
      "execution_count": 27,
      "metadata": {
        "id": "mxATGsErLV1i",
        "colab": {
          "base_uri": "https://localhost:8080/",
          "height": 159
        },
        "outputId": "98134af6-f9af-4c6e-deaf-91c98a15215c"
      },
      "outputs": [
        {
          "output_type": "error",
          "ename": "TypeError",
          "evalue": "'str' object is not an iterator",
          "traceback": [
            "\u001b[0;31m---------------------------------------------------------------------------\u001b[0m",
            "\u001b[0;31mTypeError\u001b[0m                                 Traceback (most recent call last)",
            "\u001b[0;32m<ipython-input-27-c4748cb3b579>\u001b[0m in \u001b[0;36m<cell line: 0>\u001b[0;34m()\u001b[0m\n\u001b[1;32m      1\u001b[0m \u001b[0mmy_str\u001b[0m \u001b[0;34m=\u001b[0m \u001b[0;34m\"a\"\u001b[0m\u001b[0;34m\u001b[0m\u001b[0;34m\u001b[0m\u001b[0m\n\u001b[0;32m----> 2\u001b[0;31m \u001b[0mnext\u001b[0m\u001b[0;34m(\u001b[0m\u001b[0mmy_str\u001b[0m\u001b[0;34m)\u001b[0m\u001b[0;34m\u001b[0m\u001b[0;34m\u001b[0m\u001b[0m\n\u001b[0m",
            "\u001b[0;31mTypeError\u001b[0m: 'str' object is not an iterator"
          ]
        }
      ],
      "source": [
        "my_str = \"a\"\n",
        "next(my_str)"
      ]
    },
    {
      "cell_type": "markdown",
      "metadata": {
        "id": "XwtMEopwJ4pH"
      },
      "source": [
        " 12. (5б). Опишіть своїми словами в одному реченні, як ви розумієте різницю між ітерабельними обʼєктами та ітераторами (можна на прикладі)."
      ]
    },
    {
      "cell_type": "markdown",
      "metadata": {
        "id": "-sHrODc3KFn8"
      },
      "source": [
        "*місце для відповіді\n",
        "\n",
        "Ітерабельні об'єкти це об'єкти по яким можна проітерувати (мають методи які може використати ітератор) а ітератори це об'єкти які дозволяють прохід по ітерабелам (зберігають на якому вони елементі щоб можна було отримати наступний)"
      ]
    },
    {
      "cell_type": "markdown",
      "metadata": {
        "id": "E9qJWmNbK8Gl"
      },
      "source": [
        "13. (11б). Створіть клас, що має визначений Iterator Protocol та при кожному виклику next повертає назву дня тижня, поки вони не вичерпаються. Зверніть увагу, що порядок має значення."
      ]
    },
    {
      "cell_type": "code",
      "execution_count": 31,
      "metadata": {
        "id": "cqx-g_RsLo6I",
        "colab": {
          "base_uri": "https://localhost:8080/"
        },
        "outputId": "00e01b3a-953b-4971-e1e1-22ef2882da03"
      },
      "outputs": [
        {
          "output_type": "stream",
          "name": "stdout",
          "text": [
            "Monday\n",
            "Tuesday\n",
            "Wednesday\n",
            "Thursday\n",
            "Friday\n",
            "Saturday\n",
            "Sunday\n"
          ]
        }
      ],
      "source": [
        "class WeekdayIterator:\n",
        "    def __init__(self):\n",
        "        self.days = [\"Monday\", \"Tuesday\", \"Wednesday\", \"Thursday\", \"Friday\", \"Saturday\", \"Sunday\"]\n",
        "        self.index = 0\n",
        "\n",
        "    def __iter__(self):\n",
        "        return self\n",
        "\n",
        "    def __next__(self):\n",
        "        if self.index < len(self.days):\n",
        "            day = self.days[self.index]\n",
        "            self.index += 1\n",
        "            return day\n",
        "        else:\n",
        "            raise StopIteration\n",
        "\n",
        "day_iterator = WeekdayIterator()\n",
        "\n",
        "while True:\n",
        "    try:\n",
        "        print(next(day_iterator))\n",
        "    except StopIteration:\n",
        "        break"
      ]
    },
    {
      "cell_type": "markdown",
      "metadata": {
        "id": "Z3E3S_s1Fv7-"
      },
      "source": [
        "# Вітаю! Ви велика(ий) молодець, що впоралась(вся). Похваліть себе та побалуйте чимось приємним. Я Вами пишаюся."
      ]
    }
  ],
  "metadata": {
    "colab": {
      "provenance": []
    },
    "kernelspec": {
      "display_name": "Python 3",
      "name": "python3"
    },
    "language_info": {
      "name": "python"
    }
  },
  "nbformat": 4,
  "nbformat_minor": 0
}